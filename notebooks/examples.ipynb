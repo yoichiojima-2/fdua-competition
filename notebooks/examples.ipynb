{
 "cells": [
  {
   "cell_type": "code",
   "execution_count": 1,
   "metadata": {},
   "outputs": [],
   "source": [
    "from fdua_competition.vectorstore import build_vectorstore\n",
    "from fdua_competition.enums import Mode, VectorStoreOption\n",
    "from fdua_competition.rag import ResearchAssistant\n",
    "from pprint import pprint"
   ]
  },
  {
   "cell_type": "code",
   "execution_count": 2,
   "metadata": {
    "scrolled": true
   },
   "outputs": [
    {
     "name": "stdout",
     "output_type": "stream",
     "text": [
      "[prepare_vectorstore] chroma: /fdua-competition/.fdua-competition/vectorstores/chroma\n",
      "[add_document_to_vectorstore] skipping existing document: /fdua-competition/.fdua-competition/validation/documents/9.pdf\n",
      "[add_document_to_vectorstore] skipping existing document: /fdua-competition/.fdua-competition/validation/documents/8.pdf\n",
      "[add_document_to_vectorstore] skipping existing document: /fdua-competition/.fdua-competition/validation/documents/10.pdf\n",
      "[add_document_to_vectorstore] skipping existing document: /fdua-competition/.fdua-competition/validation/documents/6.pdf\n",
      "[add_document_to_vectorstore] skipping existing document: /fdua-competition/.fdua-competition/validation/documents/7.pdf\n",
      "[add_document_to_vectorstore] skipping existing document: /fdua-competition/.fdua-competition/validation/documents/5.pdf\n",
      "[add_document_to_vectorstore] skipping existing document: /fdua-competition/.fdua-competition/validation/documents/4.pdf\n",
      "[add_document_to_vectorstore] skipping existing document: /fdua-competition/.fdua-competition/validation/documents/1.pdf\n",
      "[add_document_to_vectorstore] skipping existing document: /fdua-competition/.fdua-competition/validation/documents/3.pdf\n",
      "[add_document_to_vectorstore] skipping existing document: /fdua-competition/.fdua-competition/validation/documents/2.pdf\n"
     ]
    }
   ],
   "source": [
    "vectorstore = build_vectorstore(\"output_simple_test\", Mode.TEST, VectorStoreOption.CHROMA)"
   ]
  },
  {
   "cell_type": "code",
   "execution_count": 3,
   "metadata": {},
   "outputs": [],
   "source": [
    "assistant = ResearchAssistant(vectorstore)"
   ]
  },
  {
   "cell_type": "code",
   "execution_count": 4,
   "metadata": {},
   "outputs": [],
   "source": [
    "res = assistant.invoke(\"電通についてまとめて\")"
   ]
  },
  {
   "cell_type": "code",
   "execution_count": 5,
   "metadata": {},
   "outputs": [
    {
     "name": "stdout",
     "output_type": "stream",
     "text": [
      "ResearchAssistantResponse(query='電通についてまとめて', response='電通は1901年創業の広告会社で通信と広告販売を融合し成長した。業界の近代化を推進し多様な事業展開を行っている。', reason='電通の歴史や事業展開に関する情報を集約し簡潔にまとめた。', organization_name='電通グループ', contexts=['創業者 光永星郎が日本広告会社を設立し広告専業化した。', '広告業界の発展に尽力し多様なメディアに進出した。', '電通は1901年創設で日本の広告業近代化を先導した。'])\n"
     ]
    }
   ],
   "source": [
    "pprint(res)"
   ]
  },
  {
   "cell_type": "code",
   "execution_count": null,
   "metadata": {},
   "outputs": [],
   "source": []
  }
 ],
 "metadata": {
  "kernelspec": {
   "display_name": "Python 3 (ipykernel)",
   "language": "python",
   "name": "python3"
  },
  "language_info": {
   "codemirror_mode": {
    "name": "ipython",
    "version": 3
   },
   "file_extension": ".py",
   "mimetype": "text/x-python",
   "name": "python",
   "nbconvert_exporter": "python",
   "pygments_lexer": "ipython3",
   "version": "3.12.8"
  }
 },
 "nbformat": 4,
 "nbformat_minor": 4
}
