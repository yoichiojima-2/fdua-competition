{
 "cells": [
  {
   "cell_type": "code",
   "execution_count": 1,
   "metadata": {},
   "outputs": [],
   "source": [
    "%load_ext autoreload\n",
    "%autoreload 2"
   ]
  },
  {
   "cell_type": "code",
   "execution_count": 18,
   "metadata": {},
   "outputs": [],
   "source": [
    "import typing as t\n",
    "from fdua_competition.vectorstore import build_vectorstore\n",
    "from fdua_competition.enums import Mode, VectorStoreOption\n",
    "from fdua_competition.rag import ResearchAssistant, RAG\n",
    "from fdua_competition.enums import ChatModelOption\n",
    "from langchain_core.prompts import ChatPromptTemplate\n",
    "from pydantic import BaseModel, Field\n",
    "from langchain_core.vectorstores.base import VectorStore"
   ]
  },
  {
   "cell_type": "code",
   "execution_count": 14,
   "metadata": {
    "scrolled": true
   },
   "outputs": [
    {
     "name": "stdout",
     "output_type": "stream",
     "text": [
      "[prepare_vectorstore] chroma: /fdua-competition/.fdua-competition/vectorstores/chroma\n",
      "[add_document_to_vectorstore] skipping existing document: /fdua-competition/.fdua-competition/validation/documents/9.pdf\n",
      "[add_document_to_vectorstore] skipping existing document: /fdua-competition/.fdua-competition/validation/documents/8.pdf\n",
      "[add_document_to_vectorstore] skipping existing document: /fdua-competition/.fdua-competition/validation/documents/10.pdf\n",
      "[add_document_to_vectorstore] skipping existing document: /fdua-competition/.fdua-competition/validation/documents/6.pdf\n",
      "[add_document_to_vectorstore] skipping existing document: /fdua-competition/.fdua-competition/validation/documents/7.pdf\n",
      "[add_document_to_vectorstore] skipping existing document: /fdua-competition/.fdua-competition/validation/documents/5.pdf\n",
      "[add_document_to_vectorstore] skipping existing document: /fdua-competition/.fdua-competition/validation/documents/4.pdf\n",
      "[add_document_to_vectorstore] skipping existing document: /fdua-competition/.fdua-competition/validation/documents/1.pdf\n",
      "[add_document_to_vectorstore] skipping existing document: /fdua-competition/.fdua-competition/validation/documents/3.pdf\n",
      "[add_document_to_vectorstore] skipping existing document: /fdua-competition/.fdua-competition/validation/documents/2.pdf\n"
     ]
    }
   ],
   "source": [
    "vectorstore = build_vectorstore(\"one_assistant_test\", Mode.TEST, VectorStoreOption.CHROMA)"
   ]
  },
  {
   "cell_type": "code",
   "execution_count": 15,
   "metadata": {},
   "outputs": [],
   "source": [
    "assistant = ResearchAssistant(vectorstore)"
   ]
  },
  {
   "cell_type": "code",
   "execution_count": 16,
   "metadata": {},
   "outputs": [
    {
     "name": "stdout",
     "output_type": "stream",
     "text": [
      "query='電通についてまとめて' response='電通は1901年に創業し広告業界の発展に寄与してきた通信と広告の統合企業です。グローバル展開も行っています。' reason='電通の歴史や事業領域は創業からの情報や組織の成長が示されています。' organization_name='電通グループ' contexts=['日本の広告業を産業として躍進', '電通グループの根底に流れる価値観', '電通の発展に尽力する']\n"
     ]
    }
   ],
   "source": [
    "res = assistant.invoke(\"電通についてまとめて\")\n",
    "print(res)"
   ]
  },
  {
   "cell_type": "code",
   "execution_count": 19,
   "metadata": {},
   "outputs": [],
   "source": [
    "# RAGクラスを継承して、新しいRAGを作成する例\n",
    "\n",
    "## レスポンスの型式を定義\n",
    "class FactCheckerResponse(BaseModel):\n",
    "    score: str = Field(description=\"score\")\n",
    "    reason: str = Field(description=\"reason\")\n",
    "\n",
    "\n",
    "# RAGクラスを継承して新しいRAGクラスを定義\n",
    "# prompt_template(), build_payload(), output_structure() メソッドをオーバーライドする\n",
    "class FactChecker(RAG):\n",
    "    def __init__(\n",
    "        self, vectorstore: VectorStore, chat_model_option: ChatModelOption = ChatModelOption.AZURE, language: str = \"japanese\"\n",
    "    ):\n",
    "        super().__init__(vectorstore=vectorstore, chat_model_option=chat_model_option)\n",
    "        self.language = language\n",
    "\n",
    "    @property\n",
    "    def prompt_template(self) -> ChatPromptTemplate:\n",
    "        \"\"\"プロンプトのテンプレート\"\"\"\n",
    "        return ChatPromptTemplate.from_messages(\n",
    "            [\n",
    "                (\"system\", \"fact check given ai response\"),\n",
    "                (\"system\", \"context:\\n{context}\"),\n",
    "                (\"user\", \"ai-response:\\n{ai_response}\"),\n",
    "            ]\n",
    "        )\n",
    "\n",
    "    def build_payload(self, query: str) -> dict[str, t.Any]:\n",
    "        \"\"\"テンプレートこの辞書で埋める\"\"\"\n",
    "        return {\n",
    "            \"ai_response\": query,\n",
    "            \"language\": self.language,\n",
    "        }\n",
    "\n",
    "    @property\n",
    "    def output_structure(self) -> BaseModel:\n",
    "        \"\"\"出力型式を定義する\"\"\"\n",
    "        return FactCheckerResponse\n",
    "\n",
    "\n",
    "# [end: research_assistant]"
   ]
  },
  {
   "cell_type": "code",
   "execution_count": 22,
   "metadata": {},
   "outputs": [
    {
     "data": {
      "text/plain": [
       "FactCheckerResponse(score='1', reason='電通は1901年に創業し、通信と広告の統合企業として日本の広告業界の発展に寄与してきたのは正しい。特に、グローバル展開も含まれている点が非常に重要で、これも事実である。')"
      ]
     },
     "execution_count": 22,
     "metadata": {},
     "output_type": "execute_result"
    }
   ],
   "source": [
    "fact_checker = FactChecker(vectorstore)\n",
    "fact_checker.invoke(f\"{res.query}: {res.response}\")"
   ]
  },
  {
   "cell_type": "code",
   "execution_count": null,
   "metadata": {},
   "outputs": [],
   "source": []
  }
 ],
 "metadata": {
  "kernelspec": {
   "display_name": "Python 3 (ipykernel)",
   "language": "python",
   "name": "python3"
  },
  "language_info": {
   "codemirror_mode": {
    "name": "ipython",
    "version": 3
   },
   "file_extension": ".py",
   "mimetype": "text/x-python",
   "name": "python",
   "nbconvert_exporter": "python",
   "pygments_lexer": "ipython3",
   "version": "3.12.8"
  }
 },
 "nbformat": 4,
 "nbformat_minor": 4
}
