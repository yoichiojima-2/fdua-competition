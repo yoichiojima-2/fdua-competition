{
 "cells": [
  {
   "cell_type": "code",
   "execution_count": 14,
   "metadata": {},
   "outputs": [
    {
     "name": "stdout",
     "output_type": "stream",
     "text": [
      "The autoreload extension is already loaded. To reload it, use:\n",
      "  %reload_ext autoreload\n"
     ]
    }
   ],
   "source": [
    "%load_ext autoreload\n",
    "%autoreload 2"
   ]
  },
  {
   "cell_type": "code",
   "execution_count": 15,
   "metadata": {},
   "outputs": [],
   "source": [
    "from fdua_competition.vectorstore import build_vectorstore\n",
    "from fdua_competition.enums import Mode, VectorStoreOption\n",
    "from fdua_competition.rag import ResearchAssistant, FactChecker"
   ]
  },
  {
   "cell_type": "code",
   "execution_count": 16,
   "metadata": {
    "scrolled": true
   },
   "outputs": [
    {
     "name": "stdout",
     "output_type": "stream",
     "text": [
      "[prepare_vectorstore] chroma: /fdua-competition/.fdua-competition/vectorstores/chroma\n",
      "[add_document_to_vectorstore] skipping existing document: /fdua-competition/.fdua-competition/validation/documents/9.pdf\n",
      "[add_document_to_vectorstore] skipping existing document: /fdua-competition/.fdua-competition/validation/documents/8.pdf\n",
      "[add_document_to_vectorstore] skipping existing document: /fdua-competition/.fdua-competition/validation/documents/10.pdf\n",
      "[add_document_to_vectorstore] skipping existing document: /fdua-competition/.fdua-competition/validation/documents/6.pdf\n",
      "[add_document_to_vectorstore] skipping existing document: /fdua-competition/.fdua-competition/validation/documents/7.pdf\n",
      "[add_document_to_vectorstore] skipping existing document: /fdua-competition/.fdua-competition/validation/documents/5.pdf\n",
      "[add_document_to_vectorstore] skipping existing document: /fdua-competition/.fdua-competition/validation/documents/4.pdf\n",
      "[add_document_to_vectorstore] skipping existing document: /fdua-competition/.fdua-competition/validation/documents/1.pdf\n",
      "[add_document_to_vectorstore] skipping existing document: /fdua-competition/.fdua-competition/validation/documents/3.pdf\n",
      "[add_document_to_vectorstore] skipping existing document: /fdua-competition/.fdua-competition/validation/documents/2.pdf\n"
     ]
    }
   ],
   "source": [
    "vectorstore = build_vectorstore(\"one_assistant_test\", Mode.TEST, VectorStoreOption.CHROMA)"
   ]
  },
  {
   "cell_type": "code",
   "execution_count": 21,
   "metadata": {},
   "outputs": [],
   "source": [
    "assistant = ResearchAssistant(vectorstore)\n",
    "fact_checker = FactChecker(vectorstore)"
   ]
  },
  {
   "cell_type": "code",
   "execution_count": 26,
   "metadata": {},
   "outputs": [
    {
     "data": {
      "text/plain": [
       "ResearchAssistantResponse(query='電通についてまとめて', response='電通は1901年創業の広告会社で多様なメディア事業を展開し社会に貢献している', reason='電通の創業年からの歴史とビジネス展開に関する情報を確認しまとめました', organization_name='株式会社電通グループ', contexts=['株式会社電通グループ', '光永星郎の手によって1901年に創設された日本広告', 'その発展に尽力する、活力ある社会を創造し'])"
      ]
     },
     "execution_count": 26,
     "metadata": {},
     "output_type": "execute_result"
    }
   ],
   "source": [
    "assitant_res = res = assistant.invoke(\"電通についてまとめて\")\n",
    "assitant_res"
   ]
  },
  {
   "cell_type": "code",
   "execution_count": 27,
   "metadata": {},
   "outputs": [
    {
     "data": {
      "text/plain": [
       "FactCheckerResponse(score='7/10', reason='電通は1901年に創業され、広告事業やメディア関連事業を展開しているが、社会貢献に関しては具体的な取り組みや影響についての補足が必要。')"
      ]
     },
     "execution_count": 27,
     "metadata": {},
     "output_type": "execute_result"
    }
   ],
   "source": [
    "fact_cheker_res = fact_checker.invoke(f\"{assitant_res.query}: {assitant_res.response}\")\n",
    "fact_cheker_res"
   ]
  },
  {
   "cell_type": "code",
   "execution_count": null,
   "metadata": {},
   "outputs": [],
   "source": []
  }
 ],
 "metadata": {
  "kernelspec": {
   "display_name": "Python 3 (ipykernel)",
   "language": "python",
   "name": "python3"
  },
  "language_info": {
   "codemirror_mode": {
    "name": "ipython",
    "version": 3
   },
   "file_extension": ".py",
   "mimetype": "text/x-python",
   "name": "python",
   "nbconvert_exporter": "python",
   "pygments_lexer": "ipython3",
   "version": "3.12.8"
  }
 },
 "nbformat": 4,
 "nbformat_minor": 4
}
