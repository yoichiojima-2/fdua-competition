{
 "cells": [
  {
   "cell_type": "code",
   "execution_count": null,
   "metadata": {},
   "outputs": [],
   "source": [
    "%load_ext autoreload\n",
    "%autoreload 2"
   ]
  },
  {
   "cell_type": "code",
   "execution_count": null,
   "metadata": {},
   "outputs": [],
   "source": [
    "from fdua_competition.vectorstore import build_vectorstore\n",
    "from fdua_competition.enums import Mode, VectorStoreOption\n",
    "from fdua_competition.rag import ResearchAssistant, RAG\n",
    "from pprint import pprint"
   ]
  },
  {
   "cell_type": "code",
   "execution_count": null,
   "metadata": {
    "scrolled": true
   },
   "outputs": [],
   "source": [
    "vectorstore = build_vectorstore(\"one_assistant_test\", Mode.TEST, VectorStoreOption.CHROMA)"
   ]
  },
  {
   "cell_type": "code",
   "execution_count": null,
   "metadata": {},
   "outputs": [],
   "source": [
    "assistant = ResearchAssistant(vectorstore)"
   ]
  },
  {
   "cell_type": "code",
   "execution_count": null,
   "metadata": {},
   "outputs": [],
   "source": [
    "res = assistant.invoke(\"電通についてまとめて\")\n",
    "print(res)"
   ]
  },
  {
   "cell_type": "code",
   "execution_count": null,
   "metadata": {},
   "outputs": [],
   "source": [
    "# RAGクラスを継承して、新しいRAGを作成する例\n",
    "\n",
    "## レスポンスの型式を定義\n",
    "class FactCheckerResponse(BaseModel):\n",
    "    score: str = Field(description=\"score\")\n",
    "    reason: str = Field(description=\"reason\")\n",
    "\n",
    "\n",
    "# RAGクラスを継承して新しいRAGクラスを定義\n",
    "# prompt_template(), build_payload(), output_structure() メソッドをオーバーライドする\n",
    "class FactChecker(RAG):\n",
    "    def __init__(\n",
    "        self, vectorstore: VectorStore, chat_model_option: ChatModelOption = ChatModelOption.AZURE, language: str = \"japanese\"\n",
    "    ):\n",
    "        super().__init__(vectorstore=vectorstore, chat_model_option=chat_model_option)\n",
    "        self.language = language\n",
    "\n",
    "    @property\n",
    "    def prompt_template(self) -> ChatPromptTemplate:\n",
    "        \"\"\"プロンプトのテンプレート\"\"\"\n",
    "        return ChatPromptTemplate.from_messages(\n",
    "            [\n",
    "                (\"system\", \"fact check given ai response\"),\n",
    "                (\"system\", \"context:\\n{context}\"),\n",
    "                (\"user\", \"ai-response:\\n{ai_response}\"),\n",
    "            ]\n",
    "        )\n",
    "\n",
    "    def build_payload(self, query: str) -> dict[str, t.Any]:\n",
    "        \"\"\"テンプレートこの辞書で埋める\"\"\"\n",
    "        return {\n",
    "            \"ai_response\": query,\n",
    "            \"language\": self.language,\n",
    "        }\n",
    "\n",
    "    @property\n",
    "    def output_structure(self) -> BaseModel:\n",
    "        \"\"\"出力型式を定義する\"\"\"\n",
    "        return FactCheckerResponse\n",
    "\n",
    "\n",
    "# [end: research_assistant]"
   ]
  },
  {
   "cell_type": "code",
   "execution_count": null,
   "metadata": {},
   "outputs": [],
   "source": [
    "fact_checker = FactChecker(vectorstore)\n",
    "fact_checker.invoke(f\"{assitant_res.query}: {assitant_res.response}\")"
   ]
  },
  {
   "cell_type": "code",
   "execution_count": null,
   "metadata": {},
   "outputs": [],
   "source": []
  }
 ],
 "metadata": {
  "kernelspec": {
   "display_name": "Python 3 (ipykernel)",
   "language": "python",
   "name": "python3"
  },
  "language_info": {
   "codemirror_mode": {
    "name": "ipython",
    "version": 3
   },
   "file_extension": ".py",
   "mimetype": "text/x-python",
   "name": "python",
   "nbconvert_exporter": "python",
   "pygments_lexer": "ipython3",
   "version": "3.12.8"
  }
 },
 "nbformat": 4,
 "nbformat_minor": 4
}
