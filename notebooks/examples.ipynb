{
 "cells": [
  {
   "cell_type": "code",
   "execution_count": 1,
   "metadata": {},
   "outputs": [],
   "source": [
    "%load_ext autoreload\n",
    "%autoreload 2"
   ]
  },
  {
   "cell_type": "code",
   "execution_count": 2,
   "metadata": {},
   "outputs": [],
   "source": [
    "import typing as t\n",
    "from fdua_competition.vectorstore import build_vectorstore\n",
    "from fdua_competition.enums import Mode, VectorStoreOption\n",
    "from fdua_competition.rag import ResearchAssistant, RAG\n",
    "from fdua_competition.enums import ChatModelOption\n",
    "from langchain_core.prompts import ChatPromptTemplate\n",
    "from pydantic import BaseModel, Field\n",
    "from langchain_core.vectorstores.base import VectorStore"
   ]
  },
  {
   "cell_type": "code",
   "execution_count": 3,
   "metadata": {},
   "outputs": [],
   "source": [
    "# RAGクラスを継承して, 新しいRAGを作成する例\n",
    "\n",
    "## レスポンスの型式を定義\n",
    "class FactCheckerResponse(BaseModel):\n",
    "    score: str = Field(description=\"スコア\")\n",
    "    reason: str = Field(description=\"理由\")\n",
    "    reference: list[str] = Field(description=\"[参照した文章]\")\n",
    "\n",
    "\n",
    "# RAGクラスを継承して新しいRAGクラスを定義\n",
    "# prompt_template(), build_payload(), output_structure() メソッドをオーバーライドする\n",
    "class FactChecker(RAG):\n",
    "    def __init__(\n",
    "        self, vectorstore: VectorStore, chat_model_option: ChatModelOption = ChatModelOption.AZURE, language: str = \"japanese\"\n",
    "    ):\n",
    "        super().__init__(vectorstore=vectorstore, chat_model_option=chat_model_option)\n",
    "        self.language = language\n",
    "\n",
    "    @property\n",
    "    def prompt_template(self) -> ChatPromptTemplate:\n",
    "        \"\"\"プロンプトのテンプレート\"\"\"\n",
    "        return ChatPromptTemplate.from_messages(\n",
    "            [\n",
    "                (\"system\", \"情報の正確さを与えられたコンテキストのみ使ってを10点満点で評価して. {language}\"),\n",
    "                (\"system\", \"コンテキスト:\\n{context}\"),\n",
    "                (\"user\", \"チェック対象:\\n{llm_response}\"),\n",
    "            ]\n",
    "        )\n",
    "\n",
    "    def build_payload(self, query: str) -> dict[str, t.Any]:\n",
    "        \"\"\"プロンプトテンプレートをこの辞書で埋める\"\"\"\n",
    "        return {\"llm_response\": query, \"language\": self.language}\n",
    "\n",
    "    @property\n",
    "    def output_structure(self) -> BaseModel:\n",
    "        \"\"\"出力型式を定義する\"\"\"\n",
    "        return FactCheckerResponse\n",
    "\n",
    "\n",
    "# [end: research_assistant]"
   ]
  },
  {
   "cell_type": "code",
   "execution_count": 4,
   "metadata": {},
   "outputs": [
    {
     "name": "stdout",
     "output_type": "stream",
     "text": [
      "[prepare_vectorstore] chroma: /fdua-competition/.fdua-competition/vectorstores/chroma\n",
      "[add_document_to_vectorstore] skipping existing document: /fdua-competition/.fdua-competition/validation/documents/9.pdf\n",
      "[add_document_to_vectorstore] skipping existing document: /fdua-competition/.fdua-competition/validation/documents/8.pdf\n",
      "[add_document_to_vectorstore] skipping existing document: /fdua-competition/.fdua-competition/validation/documents/10.pdf\n",
      "[add_document_to_vectorstore] skipping existing document: /fdua-competition/.fdua-competition/validation/documents/6.pdf\n",
      "[add_document_to_vectorstore] skipping existing document: /fdua-competition/.fdua-competition/validation/documents/7.pdf\n",
      "[add_document_to_vectorstore] skipping existing document: /fdua-competition/.fdua-competition/validation/documents/5.pdf\n",
      "[add_document_to_vectorstore] skipping existing document: /fdua-competition/.fdua-competition/validation/documents/4.pdf\n",
      "[add_document_to_vectorstore] skipping existing document: /fdua-competition/.fdua-competition/validation/documents/1.pdf\n",
      "[add_document_to_vectorstore] skipping existing document: /fdua-competition/.fdua-competition/validation/documents/3.pdf\n",
      "[add_document_to_vectorstore] skipping existing document: /fdua-competition/.fdua-competition/validation/documents/2.pdf\n"
     ]
    }
   ],
   "source": [
    "vectorstore = build_vectorstore(\"one_assistant_test\", Mode.TEST, VectorStoreOption.CHROMA)"
   ]
  },
  {
   "cell_type": "code",
   "execution_count": 5,
   "metadata": {},
   "outputs": [],
   "source": [
    "assistant = ResearchAssistant(vectorstore)"
   ]
  },
  {
   "cell_type": "code",
   "execution_count": 6,
   "metadata": {},
   "outputs": [
    {
     "name": "stdout",
     "output_type": "stream",
     "text": [
      "query='電通グループの創業は何年ですか？' response='電通グループは1901年に創業されました' reason='文書から電通グループの創設年が1901年であることを確認しました' organization_name='電通グループ' contexts=['年に創設された日本広告1901光永星郎の手によって・創業者\\u3000', '創業）株（日本広告社、光永星郎\\u30001901']\n"
     ]
    }
   ],
   "source": [
    "res = assistant.invoke(\"電通グループの創業は何年ですか？\")\n",
    "print(res)"
   ]
  },
  {
   "cell_type": "code",
   "execution_count": 7,
   "metadata": {},
   "outputs": [
    {
     "name": "stdout",
     "output_type": "stream",
     "text": [
      "電通グループの創業は何年ですか？: 電通グループは1901年に創業されました\n"
     ]
    },
    {
     "data": {
      "text/plain": [
       "FactCheckerResponse(score='10', reason='情報は正確で、電通グループの創業年である1901年に関する記載が確認できました。', reference=['1901年、光永星郎の手によって創設された日本広告社が電通の前身となる。'])"
      ]
     },
     "execution_count": 7,
     "metadata": {},
     "output_type": "execute_result"
    }
   ],
   "source": [
    "fact_checker = FactChecker(vectorstore)\n",
    "prompt = f\"{res.query}: {res.response}\"\n",
    "print(prompt)\n",
    "fact_checker.invoke(prompt)"
   ]
  }
 ],
 "metadata": {
  "kernelspec": {
   "display_name": "Python 3 (ipykernel)",
   "language": "python",
   "name": "python3"
  },
  "language_info": {
   "codemirror_mode": {
    "name": "ipython",
    "version": 3
   },
   "file_extension": ".py",
   "mimetype": "text/x-python",
   "name": "python",
   "nbconvert_exporter": "python",
   "pygments_lexer": "ipython3",
   "version": "3.12.8"
  }
 },
 "nbformat": 4,
 "nbformat_minor": 4
}
